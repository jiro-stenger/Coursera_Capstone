{
    "cells": [
        {
            "cell_type": "markdown",
            "metadata": {
                "collapsed": true
            },
            "source": "# Battle of Neighborhoods"
        },
        {
            "cell_type": "markdown",
            "metadata": {},
            "source": "### Japanese Restaurants in NYC"
        },
        {
            "cell_type": "markdown",
            "metadata": {},
            "source": " by Jiro Stenger"
        },
        {
            "cell_type": "markdown",
            "metadata": {},
            "source": "## Introduction/Business Problem"
        },
        {
            "cell_type": "markdown",
            "metadata": {},
            "source": "### Introduction"
        },
        {
            "cell_type": "markdown",
            "metadata": {},
            "source": "The goal of the project is to find out the best locations for a Japanese restaurants in New York City. The following assumptions are kept very simple, due to the given circumstances of a fictitious project. In order to obtain a more professional evaluation, a lot more research would have to be done and more variables would have to be considered.     \n\nGiven the fact, that living in New York is a rather costly pleasure, one could assume that inhabitants are more likely wealthy than poor. Therefore, wealthy people might be willing to spend more money on food than poor people. One could conclude, there is a high acceptance in NYC for the rather high pricing Japanese cuisine. Hence, NYC might be an interesting city to open a Japanese restaurant, serving for example Sushi or other delicate Japanese specialties. \n \n---"
        },
        {
            "cell_type": "markdown",
            "metadata": {},
            "source": "### Business Problem:"
        },
        {
            "cell_type": "markdown",
            "metadata": {},
            "source": "A client wants to open a major Japanese restaurant in NYC, serving traditional Japanese food prepared in a modern way. The client is aware there is lots of competition in a city like NYC. The investment, that is needed to open the restaurant, is very high, so the client needs recommendation on the location to choose for the venue. He needs to know which Japanese restaurants are popular and where they are located, so he can either open the restaurant in an area that is famous for Japanese cuisine.\n\nAfter a little research, I found there is a neighborhood called \"little Tokyo\". It is supposed to be located in the East Village between St. Mark's Place and 10th Street (Source: Beacon Hotel, 2018). I will attempt to prove, if there is actually a neighborhood in NYC with a high quantity and quality of Japanese restaurants as well as whether the location stated before is correct or not.\n\nIn conclusion, this report explores which boroughs and neighborhoods in New York City have the most as well as the best Japanese restaurants. \n\n---"
        },
        {
            "cell_type": "markdown",
            "metadata": {},
            "source": "## Data"
        },
        {
            "cell_type": "markdown",
            "metadata": {},
            "source": "There is various data required to answer the questions above. Since we do not have one data set with all the required data, we will have to obtain our data from several data sources. First of all, we need data on boroughs and neighborhoods of New York City. Also, we need data of restaurants and their location with latitute and longitute as well as their ratings, likes and tips.\n\nWe will get the data on neighborhoods, boroughs, latitudes and longitudes from the following GeoJSON: \nhttps://cocl.us/new_york_dataset\n\nThe data on neighborhood boundaries of NYC we will obtain from here: \nhttps://data.cityofnewyork.us/City-Government/Borough-Boundaries/tqmj-j8zm\n\nLastly, we will get the data on Japanese restaurants and their quality as well as their geo coordinates via the FourSquare API and request library.\n\nFirst, we will collect the described data from the section above. After that, we will clean and process it into a dataframe. We will use FourSquare data to locate all the restaurants and filter down to the Japanese ones. Next, we will make use of ratings, tips, and likes of FourSquare by counting and adding them to the dataframe. After that, we will sort the data based on the rating and then visualize the results with plots and display them using folium."
        },
        {
            "cell_type": "markdown",
            "metadata": {},
            "source": "---"
        },
        {
            "cell_type": "markdown",
            "metadata": {},
            "source": "Sources: \nBeacon Hotel, 2018: https://www.beaconhotel.com/blog/your-intro-to-all-things-japanese-in-nyc/"
        }
    ],
    "metadata": {
        "kernelspec": {
            "display_name": "Python 3.6",
            "language": "python",
            "name": "python3"
        },
        "language_info": {
            "codemirror_mode": {
                "name": "ipython",
                "version": 3
            },
            "file_extension": ".py",
            "mimetype": "text/x-python",
            "name": "python",
            "nbconvert_exporter": "python",
            "pygments_lexer": "ipython3",
            "version": "3.6.8"
        }
    },
    "nbformat": 4,
    "nbformat_minor": 1
}