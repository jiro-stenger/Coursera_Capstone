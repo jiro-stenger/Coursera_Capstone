{
    "cells": [
        {
            "cell_type": "markdown",
            "metadata": {
                "collapsed": true
            },
            "source": "# Battle of Neighborhoods"
        },
        {
            "cell_type": "markdown",
            "metadata": {},
            "source": "### Japanese Restaurants in NYC"
        },
        {
            "cell_type": "markdown",
            "metadata": {},
            "source": " by Jiro Stenger"
        },
        {
            "cell_type": "markdown",
            "metadata": {},
            "source": "## Introduction/Business Problem"
        },
        {
            "cell_type": "markdown",
            "metadata": {},
            "source": "### Introduction"
        },
        {
            "cell_type": "markdown",
            "metadata": {},
            "source": "The goal of the project is to find out the best locations for a Japanese restaurant in New York City. Nowadays, the Japanese cuisine is among the most popular cuisines worldwide (Nippon.com, 2016). Given the fact, that living in New York and especially in Manhatten is expensive, there could be a high acceptance in NYC for the rather high pricing Japanese cuisine (Investopedia, 2019). Hence, NYC might be an interesting city to open a Japanese restaurant, serving for example Sushi or other delicate Japanese specialties.\n\n---"
        },
        {
            "cell_type": "markdown",
            "metadata": {},
            "source": "### Business Problem:"
        },
        {
            "cell_type": "markdown",
            "metadata": {},
            "source": "A client wants to open a major Japanese restaurant in NYC, serving traditional Japanese food prepared in a modern way. The client is aware there is lots of competition in a city like NYC. The investment, that is needed to open the restaurant, is very high, so the client needs recommendation on the location to choose for the venue. He needs to know where the Japanese restaurants are located, so he can either open the restaurant in an area that is famous for Japanese cuisine or in an area without much competition. Therefore, in order to get a better feeling of who could be competitors and who partners, the client needs to know which Japanese restaurants serve what kind of Japanese food. For example, a Ramen restaurant would not be a direct competitor to a Sushi Restaurant.\n\nAfter a little research, I found there is a neighborhood called \"little Tokyo\". It is supposed to be located in the East Village between St. Mark's Place and 10th Street (Source: Beacon Hotel, 2018). I will attempt to prove, if there is actually a neighborhood in NYC with a high quantity of Japanese restaurants as well as whether the location stated before is correct or not.\n\nIn conclusion, this report explores which boroughs and neighborhoods in New York City have the most Japanese restaurants and what kind of food they serve. In the end, the explored restaurants will be clustered to see if there is a correlation between the restaurants, the type of food they serve and their location.\n\n---"
        },
        {
            "cell_type": "markdown",
            "metadata": {},
            "source": "## Data"
        },
        {
            "cell_type": "markdown",
            "metadata": {},
            "source": "\nThere is various data required to answer the questions above. Since we do not have one data set with all the required data, we will have to obtain our data from several data sources. First of all, we need data on boroughs and neighborhoods of New York City. Also, we need data of restaurants and their location with latitute and longitute as well as their menus.\n\nWe will get the data on neighborhoods, boroughs, latitudes and longitudes from the following GeoJSON: https://cocl.us/new_york_dataset\n\nThe data on neighborhood boundaries of NYC we will obtain from here: https://data.cityofnewyork.us/City-Government/Borough-Boundaries/tqmj-j8zm\n\nLastly, we will get the data on Japanese restaurants and the type of food they serve as well as their geo coordinates via the FourSquare API and request library.\n\nFirst, we will collect the described data from the section above. After that, we will clean and process it into a dataframe. We will use FourSquare data to locate all the restaurants and filter down to the Japanese ones. Next, we will take a look at the neighborhoods and boroughs of NYC and locate the Japanese restaurants in the areas. Using matplotlib and folium, we will visualize our data to get a better understanding of it. After that, we will get the menus of the restaurants by FourSquare and add them to the dataframe. In the end we will use the data of the restaurants menu to cluster the restaurants using K-means."
        },
        {
            "cell_type": "markdown",
            "metadata": {},
            "source": "---"
        },
        {
            "cell_type": "markdown",
            "metadata": {},
            "source": "Sources: \nBeacon Hotel, 2018: https://www.beaconhotel.com/blog/your-intro-to-all-things-japanese-in-nyc/"
        }
    ],
    "metadata": {
        "kernelspec": {
            "display_name": "Python 3.6",
            "language": "python",
            "name": "python3"
        },
        "language_info": {
            "codemirror_mode": {
                "name": "ipython",
                "version": 3
            },
            "file_extension": ".py",
            "mimetype": "text/x-python",
            "name": "python",
            "nbconvert_exporter": "python",
            "pygments_lexer": "ipython3",
            "version": "3.6.8"
        }
    },
    "nbformat": 4,
    "nbformat_minor": 1
}